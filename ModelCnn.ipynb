{
 "cells": [
  {
   "cell_type": "code",
   "execution_count": 5,
   "metadata": {},
   "outputs": [],
   "source": [
    "import tensorflow as tf\n",
    "from  tensorflow import keras "
   ]
  },
  {
   "cell_type": "code",
   "execution_count": 6,
   "metadata": {},
   "outputs": [
    {
     "name": "stdout",
     "output_type": "stream",
     "text": [
      "Found 13104 files belonging to 26 classes.\n"
     ]
    }
   ],
   "source": [
    "train = keras.utils.image_dataset_from_directory(\n",
    "    directory = 'Train/',\n",
    "    label_mode = 'int',\n",
    "    labels = 'inferred' , \n",
    "    image_size = (64,64),\n",
    "    batch_size = 32 \n",
    ")"
   ]
  },
  {
   "cell_type": "code",
   "execution_count": 7,
   "metadata": {},
   "outputs": [
    {
     "name": "stdout",
     "output_type": "stream",
     "text": [
      "Found 2808 files belonging to 26 classes.\n"
     ]
    }
   ],
   "source": [
    "validation = keras.utils.image_dataset_from_directory(\n",
    "    directory = 'Test/',\n",
    "    label_mode = 'int',\n",
    "    labels = 'inferred' , \n",
    "    image_size = (64,64),\n",
    "    batch_size = 32 \n",
    ")"
   ]
  },
  {
   "cell_type": "code",
   "execution_count": 8,
   "metadata": {},
   "outputs": [],
   "source": [
    "from keras import Sequential\n",
    "from keras.layers import Conv2D , BatchNormalization , MaxPool2D , Dense , Dropout , Flatten "
   ]
  },
  {
   "cell_type": "code",
   "execution_count": 13,
   "metadata": {},
   "outputs": [],
   "source": [
    "model = Sequential()\n",
    "\n",
    "model.add(Conv2D(filters = 32 , kernel_size = (3,3) , strides = (2,2) , padding = 'same' , input_shape = (64,64,3) ,activation = 'relu'))\n",
    "model.add(MaxPool2D(pool_size = (2,2) , strides = (2,2) , padding = 'same'))\n",
    "model.add(BatchNormalization())\n",
    "\n",
    "model.add(Conv2D(filters = 64 , kernel_size = (3,3) , strides = (2,2) , padding = 'same'  ,activation = 'relu'))\n",
    "model.add(MaxPool2D(pool_size = (2,2) , strides = (2,2) , padding = 'same'))\n",
    "model.add(BatchNormalization())\n",
    "\n",
    "model.add(Flatten())\n",
    "model.add(Dense(64 , activation = 'relu' ))\n",
    "model.add(Dense(32 , activation = 'relu' ))\n",
    "\n",
    "model.add(Dropout(0.4))\n",
    "model.add(Dense(26 , activation = 'softmax' ))\n"
   ]
  },
  {
   "cell_type": "code",
   "execution_count": 14,
   "metadata": {},
   "outputs": [
    {
     "name": "stdout",
     "output_type": "stream",
     "text": [
      "Model: \"sequential_1\"\n",
      "_________________________________________________________________\n",
      " Layer (type)                Output Shape              Param #   \n",
      "=================================================================\n",
      " conv2d_2 (Conv2D)           (None, 32, 32, 32)        896       \n",
      "                                                                 \n",
      " max_pooling2d_2 (MaxPoolin  (None, 16, 16, 32)        0         \n",
      " g2D)                                                            \n",
      "                                                                 \n",
      " batch_normalization_2 (Bat  (None, 16, 16, 32)        128       \n",
      " chNormalization)                                                \n",
      "                                                                 \n",
      " conv2d_3 (Conv2D)           (None, 8, 8, 64)          18496     \n",
      "                                                                 \n",
      " max_pooling2d_3 (MaxPoolin  (None, 4, 4, 64)          0         \n",
      " g2D)                                                            \n",
      "                                                                 \n",
      " batch_normalization_3 (Bat  (None, 4, 4, 64)          256       \n",
      " chNormalization)                                                \n",
      "                                                                 \n",
      " flatten_1 (Flatten)         (None, 1024)              0         \n",
      "                                                                 \n",
      " dense_3 (Dense)             (None, 64)                65600     \n",
      "                                                                 \n",
      " dense_4 (Dense)             (None, 32)                2080      \n",
      "                                                                 \n",
      " dropout_1 (Dropout)         (None, 32)                0         \n",
      "                                                                 \n",
      " dense_5 (Dense)             (None, 26)                858       \n",
      "                                                                 \n",
      "=================================================================\n",
      "Total params: 88314 (344.98 KB)\n",
      "Trainable params: 88122 (344.23 KB)\n",
      "Non-trainable params: 192 (768.00 Byte)\n",
      "_________________________________________________________________\n"
     ]
    }
   ],
   "source": [
    "model.summary()\n"
   ]
  },
  {
   "cell_type": "code",
   "execution_count": 15,
   "metadata": {},
   "outputs": [],
   "source": [
    "model.compile(optimizer = 'adam' , loss = tf.losses.SparseCategoricalCrossentropy() , metrics = ['accuracy'])"
   ]
  },
  {
   "cell_type": "code",
   "execution_count": 16,
   "metadata": {},
   "outputs": [
    {
     "name": "stdout",
     "output_type": "stream",
     "text": [
      "Epoch 1/60\n"
     ]
    },
    {
     "name": "stdout",
     "output_type": "stream",
     "text": [
      "410/410 [==============================] - 15s 33ms/step - loss: 2.0374 - accuracy: 0.4254 - val_loss: 1.3269 - val_accuracy: 0.6535\n",
      "Epoch 2/60\n",
      "410/410 [==============================] - 10s 25ms/step - loss: 1.1723 - accuracy: 0.6715 - val_loss: 0.8514 - val_accuracy: 0.7760\n",
      "Epoch 3/60\n",
      "410/410 [==============================] - 11s 26ms/step - loss: 0.9678 - accuracy: 0.7236 - val_loss: 0.7757 - val_accuracy: 0.7924\n",
      "Epoch 4/60\n",
      "410/410 [==============================] - 11s 26ms/step - loss: 0.8826 - accuracy: 0.7463 - val_loss: 0.7583 - val_accuracy: 0.7959\n",
      "Epoch 5/60\n",
      "410/410 [==============================] - 11s 26ms/step - loss: 0.7883 - accuracy: 0.7682 - val_loss: 0.8002 - val_accuracy: 0.8027\n",
      "Epoch 6/60\n",
      "410/410 [==============================] - 11s 26ms/step - loss: 0.7440 - accuracy: 0.7833 - val_loss: 0.7541 - val_accuracy: 0.8084\n",
      "Epoch 7/60\n",
      "410/410 [==============================] - 11s 26ms/step - loss: 0.6894 - accuracy: 0.7957 - val_loss: 0.7614 - val_accuracy: 0.8130\n",
      "Epoch 8/60\n",
      "410/410 [==============================] - 11s 26ms/step - loss: 0.6586 - accuracy: 0.8032 - val_loss: 0.7352 - val_accuracy: 0.8141\n",
      "Epoch 9/60\n",
      "410/410 [==============================] - 11s 26ms/step - loss: 0.6158 - accuracy: 0.8127 - val_loss: 0.7772 - val_accuracy: 0.8223\n",
      "Epoch 10/60\n",
      "410/410 [==============================] - 11s 26ms/step - loss: 0.5811 - accuracy: 0.8211 - val_loss: 0.7832 - val_accuracy: 0.8194\n",
      "Epoch 11/60\n",
      "410/410 [==============================] - 11s 27ms/step - loss: 0.5670 - accuracy: 0.8242 - val_loss: 0.8156 - val_accuracy: 0.8198\n",
      "Epoch 12/60\n",
      "410/410 [==============================] - 11s 27ms/step - loss: 0.5387 - accuracy: 0.8313 - val_loss: 0.8258 - val_accuracy: 0.8145\n",
      "Epoch 13/60\n",
      "410/410 [==============================] - 11s 27ms/step - loss: 0.5078 - accuracy: 0.8416 - val_loss: 0.8441 - val_accuracy: 0.8155\n",
      "Epoch 14/60\n",
      "410/410 [==============================] - 11s 27ms/step - loss: 0.4951 - accuracy: 0.8463 - val_loss: 0.9102 - val_accuracy: 0.8226\n",
      "Epoch 15/60\n",
      "410/410 [==============================] - 12s 28ms/step - loss: 0.4974 - accuracy: 0.8426 - val_loss: 0.8655 - val_accuracy: 0.8230\n",
      "Epoch 16/60\n",
      "410/410 [==============================] - 11s 27ms/step - loss: 0.4611 - accuracy: 0.8552 - val_loss: 0.9007 - val_accuracy: 0.8202\n",
      "Epoch 17/60\n",
      "410/410 [==============================] - 11s 27ms/step - loss: 0.4497 - accuracy: 0.8566 - val_loss: 0.9176 - val_accuracy: 0.8266\n",
      "Epoch 18/60\n",
      "410/410 [==============================] - 11s 27ms/step - loss: 0.4368 - accuracy: 0.8603 - val_loss: 0.9913 - val_accuracy: 0.8219\n",
      "Epoch 19/60\n",
      "410/410 [==============================] - 11s 27ms/step - loss: 0.4261 - accuracy: 0.8658 - val_loss: 0.9831 - val_accuracy: 0.8177\n",
      "Epoch 20/60\n",
      "410/410 [==============================] - 11s 28ms/step - loss: 0.4114 - accuracy: 0.8651 - val_loss: 1.0805 - val_accuracy: 0.8116\n",
      "Epoch 21/60\n",
      "410/410 [==============================] - 11s 27ms/step - loss: 0.4054 - accuracy: 0.8681 - val_loss: 1.0389 - val_accuracy: 0.8170\n",
      "Epoch 22/60\n",
      "410/410 [==============================] - 12s 28ms/step - loss: 0.3961 - accuracy: 0.8705 - val_loss: 1.0772 - val_accuracy: 0.8134\n",
      "Epoch 23/60\n",
      "410/410 [==============================] - 12s 28ms/step - loss: 0.3926 - accuracy: 0.8713 - val_loss: 1.1523 - val_accuracy: 0.8159\n",
      "Epoch 24/60\n",
      "410/410 [==============================] - 11s 28ms/step - loss: 0.3809 - accuracy: 0.8793 - val_loss: 1.1200 - val_accuracy: 0.8059\n",
      "Epoch 25/60\n",
      "410/410 [==============================] - 11s 28ms/step - loss: 0.3806 - accuracy: 0.8750 - val_loss: 1.1736 - val_accuracy: 0.8109\n",
      "Epoch 26/60\n",
      "410/410 [==============================] - 12s 28ms/step - loss: 0.3671 - accuracy: 0.8816 - val_loss: 1.0769 - val_accuracy: 0.8226\n",
      "Epoch 27/60\n",
      "410/410 [==============================] - 11s 28ms/step - loss: 0.3538 - accuracy: 0.8874 - val_loss: 1.2219 - val_accuracy: 0.8152\n",
      "Epoch 28/60\n",
      "410/410 [==============================] - 11s 27ms/step - loss: 0.3661 - accuracy: 0.8810 - val_loss: 1.1749 - val_accuracy: 0.8219\n",
      "Epoch 29/60\n",
      "410/410 [==============================] - 11s 27ms/step - loss: 0.3476 - accuracy: 0.8873 - val_loss: 1.2125 - val_accuracy: 0.8166\n",
      "Epoch 30/60\n",
      "410/410 [==============================] - 11s 28ms/step - loss: 0.3490 - accuracy: 0.8852 - val_loss: 1.2298 - val_accuracy: 0.8173\n",
      "Epoch 31/60\n",
      "410/410 [==============================] - 12s 28ms/step - loss: 0.3395 - accuracy: 0.8906 - val_loss: 1.2564 - val_accuracy: 0.8202\n",
      "Epoch 32/60\n",
      "410/410 [==============================] - 11s 27ms/step - loss: 0.3342 - accuracy: 0.8908 - val_loss: 1.2412 - val_accuracy: 0.8170\n",
      "Epoch 33/60\n",
      "410/410 [==============================] - 11s 27ms/step - loss: 0.3188 - accuracy: 0.8927 - val_loss: 1.3201 - val_accuracy: 0.8198\n",
      "Epoch 34/60\n",
      "410/410 [==============================] - 11s 27ms/step - loss: 0.3308 - accuracy: 0.8915 - val_loss: 1.3729 - val_accuracy: 0.8198\n",
      "Epoch 35/60\n",
      "410/410 [==============================] - 11s 28ms/step - loss: 0.3262 - accuracy: 0.8925 - val_loss: 1.3936 - val_accuracy: 0.8266\n",
      "Epoch 36/60\n",
      "410/410 [==============================] - 11s 27ms/step - loss: 0.3243 - accuracy: 0.8954 - val_loss: 1.3828 - val_accuracy: 0.8148\n",
      "Epoch 37/60\n",
      "410/410 [==============================] - 11s 27ms/step - loss: 0.3139 - accuracy: 0.8993 - val_loss: 1.4278 - val_accuracy: 0.8226\n",
      "Epoch 38/60\n",
      "410/410 [==============================] - 11s 28ms/step - loss: 0.3155 - accuracy: 0.8973 - val_loss: 1.3475 - val_accuracy: 0.8162\n",
      "Epoch 39/60\n",
      "410/410 [==============================] - 11s 27ms/step - loss: 0.3117 - accuracy: 0.8999 - val_loss: 1.3909 - val_accuracy: 0.8137\n",
      "Epoch 40/60\n",
      "410/410 [==============================] - 11s 27ms/step - loss: 0.2971 - accuracy: 0.9022 - val_loss: 1.4446 - val_accuracy: 0.8159\n",
      "Epoch 41/60\n",
      "410/410 [==============================] - 11s 27ms/step - loss: 0.2991 - accuracy: 0.9009 - val_loss: 1.4652 - val_accuracy: 0.8219\n",
      "Epoch 42/60\n",
      "410/410 [==============================] - 11s 27ms/step - loss: 0.3104 - accuracy: 0.8987 - val_loss: 1.5492 - val_accuracy: 0.8226\n",
      "Epoch 43/60\n",
      "410/410 [==============================] - 11s 28ms/step - loss: 0.2903 - accuracy: 0.9016 - val_loss: 1.5440 - val_accuracy: 0.8170\n",
      "Epoch 44/60\n",
      "410/410 [==============================] - 11s 27ms/step - loss: 0.2927 - accuracy: 0.9042 - val_loss: 1.5490 - val_accuracy: 0.8226\n",
      "Epoch 45/60\n",
      "410/410 [==============================] - 12s 28ms/step - loss: 0.3045 - accuracy: 0.9020 - val_loss: 1.4367 - val_accuracy: 0.8255\n",
      "Epoch 46/60\n",
      "410/410 [==============================] - 11s 28ms/step - loss: 0.2872 - accuracy: 0.9072 - val_loss: 1.5147 - val_accuracy: 0.8216\n",
      "Epoch 47/60\n",
      "410/410 [==============================] - 11s 28ms/step - loss: 0.2947 - accuracy: 0.9038 - val_loss: 1.4593 - val_accuracy: 0.8166\n",
      "Epoch 48/60\n",
      "410/410 [==============================] - 11s 28ms/step - loss: 0.2763 - accuracy: 0.9103 - val_loss: 1.5649 - val_accuracy: 0.8180\n",
      "Epoch 49/60\n",
      "410/410 [==============================] - 11s 28ms/step - loss: 0.2819 - accuracy: 0.9088 - val_loss: 1.5517 - val_accuracy: 0.8216\n",
      "Epoch 50/60\n",
      "410/410 [==============================] - 12s 28ms/step - loss: 0.2904 - accuracy: 0.9080 - val_loss: 1.5666 - val_accuracy: 0.8244\n",
      "Epoch 51/60\n",
      "410/410 [==============================] - 11s 28ms/step - loss: 0.2885 - accuracy: 0.9062 - val_loss: 1.6122 - val_accuracy: 0.8148\n",
      "Epoch 52/60\n",
      "410/410 [==============================] - 12s 28ms/step - loss: 0.2845 - accuracy: 0.9077 - val_loss: 1.5201 - val_accuracy: 0.8187\n",
      "Epoch 53/60\n",
      "410/410 [==============================] - 12s 28ms/step - loss: 0.2756 - accuracy: 0.9118 - val_loss: 1.6544 - val_accuracy: 0.8194\n",
      "Epoch 54/60\n",
      "410/410 [==============================] - 12s 28ms/step - loss: 0.2681 - accuracy: 0.9120 - val_loss: 1.6128 - val_accuracy: 0.8212\n",
      "Epoch 55/60\n",
      "410/410 [==============================] - 12s 28ms/step - loss: 0.2569 - accuracy: 0.9161 - val_loss: 1.6208 - val_accuracy: 0.8212\n",
      "Epoch 56/60\n",
      "410/410 [==============================] - 12s 28ms/step - loss: 0.2677 - accuracy: 0.9126 - val_loss: 1.6116 - val_accuracy: 0.8187\n",
      "Epoch 57/60\n",
      "410/410 [==============================] - 12s 28ms/step - loss: 0.2632 - accuracy: 0.9140 - val_loss: 1.6859 - val_accuracy: 0.8113\n",
      "Epoch 58/60\n",
      "410/410 [==============================] - 12s 28ms/step - loss: 0.2673 - accuracy: 0.9160 - val_loss: 1.6905 - val_accuracy: 0.8159\n",
      "Epoch 59/60\n",
      "410/410 [==============================] - 12s 28ms/step - loss: 0.2728 - accuracy: 0.9122 - val_loss: 1.7591 - val_accuracy: 0.8198\n",
      "Epoch 60/60\n",
      "410/410 [==============================] - 12s 29ms/step - loss: 0.2742 - accuracy: 0.9155 - val_loss: 1.6143 - val_accuracy: 0.8134\n"
     ]
    },
    {
     "data": {
      "text/plain": [
       "<keras.src.callbacks.History at 0x2a3717761d0>"
      ]
     },
     "execution_count": 16,
     "metadata": {},
     "output_type": "execute_result"
    }
   ],
   "source": [
    "model.fit(train , validation_data= validation  , epochs= 60)"
   ]
  },
  {
   "cell_type": "code",
   "execution_count": 17,
   "metadata": {},
   "outputs": [
    {
     "name": "stdout",
     "output_type": "stream",
     "text": [
      "INFO:tensorflow:Assets written to: Trained_Model\\assets\n"
     ]
    },
    {
     "name": "stderr",
     "output_type": "stream",
     "text": [
      "INFO:tensorflow:Assets written to: Trained_Model\\assets\n"
     ]
    }
   ],
   "source": [
    "model.save(\"Ignored/Trained_Model\")"
   ]
  },
  {
   "cell_type": "code",
   "execution_count": null,
   "metadata": {},
   "outputs": [],
   "source": []
  }
 ],
 "metadata": {
  "kernelspec": {
   "display_name": "Python 3",
   "language": "python",
   "name": "python3"
  },
  "language_info": {
   "codemirror_mode": {
    "name": "ipython",
    "version": 3
   },
   "file_extension": ".py",
   "mimetype": "text/x-python",
   "name": "python",
   "nbconvert_exporter": "python",
   "pygments_lexer": "ipython3",
   "version": "3.11.3"
  }
 },
 "nbformat": 4,
 "nbformat_minor": 2
}
