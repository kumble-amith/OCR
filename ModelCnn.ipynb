{
 "cells": [
  {
   "cell_type": "code",
   "execution_count": 75,
   "metadata": {},
   "outputs": [],
   "source": [
    "import tensorflow as tf\n",
    "from  tensorflow import keras "
   ]
  },
  {
   "cell_type": "code",
   "execution_count": 76,
   "metadata": {},
   "outputs": [
    {
     "name": "stdout",
     "output_type": "stream",
     "text": [
      "Found 13168 files belonging to 26 classes.\n"
     ]
    }
   ],
   "source": [
    "train = keras.utils.image_dataset_from_directory(\n",
    "    directory = 'Ignored/train/',\n",
    "    label_mode = 'int',\n",
    "    labels = 'inferred' , \n",
    "    image_size = (255,255),\n",
    "    batch_size = 32 \n",
    ")"
   ]
  },
  {
   "cell_type": "code",
   "execution_count": 77,
   "metadata": {},
   "outputs": [
    {
     "name": "stdout",
     "output_type": "stream",
     "text": [
      "Found 1536 files belonging to 26 classes.\n"
     ]
    }
   ],
   "source": [
    "validation = keras.utils.image_dataset_from_directory(\n",
    "    directory = 'Ignored/validation/',\n",
    "    label_mode = 'int',\n",
    "    labels = 'inferred' , \n",
    "    image_size = (255,255),\n",
    "    batch_size = 32 \n",
    ")"
   ]
  },
  {
   "cell_type": "code",
   "execution_count": 78,
   "metadata": {},
   "outputs": [],
   "source": [
    "from keras import Sequential\n",
    "from keras.layers import Conv2D , BatchNormalization , MaxPool2D , Dense , Dropout , Flatten "
   ]
  },
  {
   "cell_type": "code",
   "execution_count": 79,
   "metadata": {},
   "outputs": [],
   "source": [
    "model = Sequential()\n",
    "\n",
    "model.add(Conv2D(filters = 64 , kernel_size = (3,3) , strides = (2,2) , padding = 'same' , input_shape = (255,255,3) ,activation = 'relu'))\n",
    "model.add(MaxPool2D(pool_size = (2,2) , strides = (2,2) , padding = 'same'))\n",
    "model.add(BatchNormalization())\n",
    "\n",
    "model.add(Conv2D(filters = 128 , kernel_size = (3,3) , strides = (2,2) , padding = 'same' ,activation = 'relu'))\n",
    "model.add(MaxPool2D(pool_size = (2,2) , strides = (2,2) , padding = 'same'))\n",
    "model.add(BatchNormalization())\n",
    "\n",
    "\n",
    "model.add(Conv2D(filters = 256 , kernel_size = (3,3) , strides = (2,2) , padding = 'same' ,activation = 'relu'))\n",
    "model.add(MaxPool2D(pool_size = (2,2) , strides = (2,2) , padding = 'same'))\n",
    "model.add(BatchNormalization())\n",
    "\n",
    "\n",
    "model.add(Conv2D(filters = 512 , kernel_size = (3,3) , strides = (2,2) , padding = 'same' ,activation = 'relu'))\n",
    "model.add(MaxPool2D(pool_size = (2,2) , strides = (2,2) , padding = 'same'))\n",
    "model.add(BatchNormalization())\n",
    "\n",
    "\n",
    "model.add(Flatten())\n",
    "\n",
    "model.add(Dense(512 , activation = 'relu'  ))\n",
    "model.add(Dense(256 , activation = 'relu' ))\n",
    "model.add(Dense(128 , activation = 'relu' ))\n",
    "model.add(Dense(64 , activation = 'relu' ))\n",
    "model.add(Dropout(0.4))\n",
    "model.add(Dense(26 , activation = 'softmax' ))\n"
   ]
  },
  {
   "cell_type": "code",
   "execution_count": 80,
   "metadata": {},
   "outputs": [
    {
     "name": "stdout",
     "output_type": "stream",
     "text": [
      "Model: \"sequential_4\"\n",
      "_________________________________________________________________\n",
      " Layer (type)                Output Shape              Param #   \n",
      "=================================================================\n",
      " conv2d_16 (Conv2D)          (None, 128, 128, 64)      1792      \n",
      "                                                                 \n",
      " max_pooling2d_16 (MaxPooli  (None, 64, 64, 64)        0         \n",
      " ng2D)                                                           \n",
      "                                                                 \n",
      " batch_normalization_16 (Ba  (None, 64, 64, 64)        256       \n",
      " tchNormalization)                                               \n",
      "                                                                 \n",
      " conv2d_17 (Conv2D)          (None, 32, 32, 128)       73856     \n",
      "                                                                 \n",
      " max_pooling2d_17 (MaxPooli  (None, 16, 16, 128)       0         \n",
      " ng2D)                                                           \n",
      "                                                                 \n",
      " batch_normalization_17 (Ba  (None, 16, 16, 128)       512       \n",
      " tchNormalization)                                               \n",
      "                                                                 \n",
      " conv2d_18 (Conv2D)          (None, 8, 8, 256)         295168    \n",
      "                                                                 \n",
      " max_pooling2d_18 (MaxPooli  (None, 4, 4, 256)         0         \n",
      " ng2D)                                                           \n",
      "                                                                 \n",
      " batch_normalization_18 (Ba  (None, 4, 4, 256)         1024      \n",
      " tchNormalization)                                               \n",
      "                                                                 \n",
      " conv2d_19 (Conv2D)          (None, 2, 2, 512)         1180160   \n",
      "                                                                 \n",
      " max_pooling2d_19 (MaxPooli  (None, 1, 1, 512)         0         \n",
      " ng2D)                                                           \n",
      "                                                                 \n",
      " batch_normalization_19 (Ba  (None, 1, 1, 512)         2048      \n",
      " tchNormalization)                                               \n",
      "                                                                 \n",
      " flatten_4 (Flatten)         (None, 512)               0         \n",
      "                                                                 \n",
      " dense_20 (Dense)            (None, 512)               262656    \n",
      "                                                                 \n",
      " dense_21 (Dense)            (None, 256)               131328    \n",
      "                                                                 \n",
      " dense_22 (Dense)            (None, 128)               32896     \n",
      "                                                                 \n",
      " dense_23 (Dense)            (None, 64)                8256      \n",
      "                                                                 \n",
      " dropout_4 (Dropout)         (None, 64)                0         \n",
      "                                                                 \n",
      " dense_24 (Dense)            (None, 26)                1690      \n",
      "                                                                 \n",
      "=================================================================\n",
      "Total params: 1991642 (7.60 MB)\n",
      "Trainable params: 1989722 (7.59 MB)\n",
      "Non-trainable params: 1920 (7.50 KB)\n",
      "_________________________________________________________________\n"
     ]
    }
   ],
   "source": [
    "model.summary()\n"
   ]
  },
  {
   "cell_type": "code",
   "execution_count": 81,
   "metadata": {},
   "outputs": [],
   "source": [
    "model.compile(optimizer = 'adam' , loss = tf.losses.SparseCategoricalCrossentropy() , metrics = ['accuracy'])"
   ]
  },
  {
   "cell_type": "code",
   "execution_count": 82,
   "metadata": {},
   "outputs": [
    {
     "name": "stdout",
     "output_type": "stream",
     "text": [
      "Epoch 1/60\n"
     ]
    },
    {
     "name": "stdout",
     "output_type": "stream",
     "text": [
      "412/412 [==============================] - 115s 277ms/step - loss: 2.8359 - accuracy: 0.1289 - val_loss: 5.1433 - val_accuracy: 0.0404\n",
      "Epoch 2/60\n",
      "213/412 [==============>...............] - ETA: 55s - loss: 2.0798 - accuracy: 0.2592"
     ]
    }
   ],
   "source": [
    "model.fit(train , validation_data= validation  , epochs= 60)"
   ]
  },
  {
   "cell_type": "code",
   "execution_count": null,
   "metadata": {},
   "outputs": [],
   "source": [
    "model.save(\"Trained_Model\")"
   ]
  }
 ],
 "metadata": {
  "kernelspec": {
   "display_name": "Python 3",
   "language": "python",
   "name": "python3"
  },
  "language_info": {
   "codemirror_mode": {
    "name": "ipython",
    "version": 3
   },
   "file_extension": ".py",
   "mimetype": "text/x-python",
   "name": "python",
   "nbconvert_exporter": "python",
   "pygments_lexer": "ipython3",
   "version": "3.11.3"
  }
 },
 "nbformat": 4,
 "nbformat_minor": 2
}
